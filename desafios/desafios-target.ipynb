{
 "cells": [
  {
   "cell_type": "markdown",
   "source": [
    "Desafio 1 - \n",
    "\n",
    "Observe o trecho de código abaixo:\n",
    "\n",
    "int INDICE = 13, SOMA = 0, K = 0;\n",
    "\n",
    "enquanto K < INDICE faça\n",
    "\n",
    "{\n",
    "\n",
    "K = K + 1;\n",
    "\n",
    "SOMA = SOMA + K;\n",
    "\n",
    "}\n",
    "\n",
    "imprimir(SOMA);\n",
    "\n",
    "\n",
    "\n",
    "Ao final do processamento, qual será o valor da variável SOMA?"
   ],
   "metadata": {
    "collapsed": false
   },
   "id": "3dfb2fb256fee86a"
  },
  {
   "cell_type": "code",
   "outputs": [
    {
     "name": "stdout",
     "output_type": "stream",
     "text": [
      "Soma final:  91\n"
     ]
    }
   ],
   "source": [
    "indice = 13\n",
    "\n",
    "SOMA = 0\n",
    "\n",
    "K = 0\n",
    "\n",
    "while K < indice:\n",
    "    K = K + 1\n",
    "    SOMA = SOMA + K\n",
    "\n",
    "print(\"Soma final: \", SOMA)\n"
   ],
   "metadata": {
    "collapsed": false,
    "ExecuteTime": {
     "end_time": "2024-03-19T03:06:59.584661Z",
     "start_time": "2024-03-19T03:06:59.579437Z"
    }
   },
   "id": "835f2f53b856daba",
   "execution_count": 19
  },
  {
   "cell_type": "markdown",
   "source": [
    "Desafio 2 - Dado a sequência de Fibonacci, onde se inicia por 0 e 1 e o próximo valor sempre será a soma dos 2 valores anteriores (exemplo: 0, 1, 1, 2, 3, 5, 8, 13, 21, 34...), escreva um programa na linguagem que desejar onde, informado um número, ele calcule a sequência de Fibonacci e retorne uma mensagem avisando se o número informado pertence ou não a sequência.\n"
   ],
   "metadata": {
    "collapsed": false
   },
   "id": "62c18d9dacbc48c1"
  },
  {
   "cell_type": "code",
   "outputs": [
    {
     "name": "stdout",
     "output_type": "stream",
     "text": [
      "O número escolhido está na sequência de Fibonacci\n"
     ]
    }
   ],
   "source": [
    "\n",
    "numero_escolhido = int(input(\"Digite o Número escolhido: \"))\n",
    "\n",
    "numero_sequencia_fibonacci = 1\n",
    "\n",
    "primeiro_termo = 0\n",
    "\n",
    "while numero_sequencia_fibonacci < numero_escolhido:\n",
    "    numero_sequencia_fibonacci = numero_sequencia_fibonacci + primeiro_termo\n",
    "    primeiro_termo = numero_sequencia_fibonacci - primeiro_termo\n",
    "    if numero_sequencia_fibonacci == numero_escolhido:\n",
    "        print(\"O número escolhido está na sequência de Fibonacci\")\n",
    "        break\n",
    "    elif numero_sequencia_fibonacci > numero_escolhido:\n",
    "        print(\"O número escolhido não está na sequência de Fibonacci\")\n",
    "        break\n",
    "\n"
   ],
   "metadata": {
    "collapsed": false,
    "ExecuteTime": {
     "end_time": "2024-03-19T02:44:34.958818Z",
     "start_time": "2024-03-19T02:44:28.343380Z"
    }
   },
   "id": "9101444f86a624e6",
   "execution_count": 5
  },
  {
   "cell_type": "markdown",
   "source": [
    "Desafio 3 - Descubra a lógica e complete o próximo elemento:\n",
    "\n",
    "a) 1, 3, 5, 7, 9\n",
    "b) 2, 4, 8, 16, 32, 64, 128\n",
    "c) 0, 1, 4, 9, 16, 25, 36, 49\n",
    "d) 4, 16, 36, 64, 100\n",
    "e) 1, 1, 2, 3, 5, 8, 13\n",
    "f) 2, 10, 12, 16, 17, 18, 19, 20 "
   ],
   "metadata": {
    "collapsed": false
   },
   "id": "1fa9b9b4d18e6cb0"
  },
  {
   "cell_type": "markdown",
   "source": [
    "Desafio 4 - Você está em uma sala com três interruptores, cada um conectado a uma lâmpada em uma sala diferente. Você não pode ver as lâmpadas da sala em que está, mas pode ligar e desligar os interruptores quantas vezes quiser. Seu objetivo é descobrir qual interruptor controla qual lâmpada.\n",
    "\n",
    "Como você faria para descobrir, usando apenas duas idas até uma das salas das lâmpadas, qual interruptor controla cada lâmpada?\n",
    "\n",
    "Resposta: Eu ligaria um dos interruptores e esperaria um pouco, depois de esperar um tempo com o primeiro interruptor ligado eu agora ligaria o segundo interruptor. Em seguida eu iria entrar na primeira sala com o seguinte em mente: se a lâmpada estiver apagada e quente, ela é referente ao primeiro interruptor, se ela estiver acesa, ela é referente ao segundo interruptor, e se estiver apagada e fria, ela é referente ao terceiro interruptor."
   ],
   "metadata": {
    "collapsed": false
   },
   "id": "c9973116bb5812de"
  },
  {
   "cell_type": "markdown",
   "source": [
    "Desafio 5 - Escreva um programa que inverta os caracteres de um string. "
   ],
   "metadata": {
    "collapsed": false
   },
   "id": "f3b31d8ae98bced4"
  },
  {
   "cell_type": "code",
   "execution_count": 18,
   "id": "initial_id",
   "metadata": {
    "collapsed": true,
    "ExecuteTime": {
     "end_time": "2024-03-19T03:05:44.706077Z",
     "start_time": "2024-03-19T03:05:40.236103Z"
    }
   },
   "outputs": [
    {
     "name": "stdout",
     "output_type": "stream",
     "text": [
      "Palavra invertida:  etnemamissilanoicutitsnocni\n"
     ]
    }
   ],
   "source": [
    "palavra = input(\"Digite a palavra que deseja inverter: \").strip()\n",
    "\n",
    "palavra_invertida = \"\"\n",
    "\n",
    "for letra in palavra:\n",
    "    palavra_invertida += palavra[-1] \n",
    "    palavra = palavra[:-1]\n",
    "\n",
    "print(\"Palavra invertida: \", palavra_invertida)"
   ]
  },
  {
   "cell_type": "markdown",
   "source": [],
   "metadata": {
    "collapsed": false
   },
   "id": "d00e7ad3d1e9f3ae"
  },
  {
   "cell_type": "markdown",
   "source": [],
   "metadata": {
    "collapsed": false
   },
   "id": "4f9822456a0f22da"
  }
 ],
 "metadata": {
  "kernelspec": {
   "display_name": "Python 3",
   "language": "python",
   "name": "python3"
  },
  "language_info": {
   "codemirror_mode": {
    "name": "ipython",
    "version": 2
   },
   "file_extension": ".py",
   "mimetype": "text/x-python",
   "name": "python",
   "nbconvert_exporter": "python",
   "pygments_lexer": "ipython2",
   "version": "2.7.6"
  }
 },
 "nbformat": 4,
 "nbformat_minor": 5
}
